{
 "cells": [
  {
   "cell_type": "code",
   "execution_count": 2,
   "metadata": {},
   "outputs": [],
   "source": [
    "# Importamos las librerías que necesitamos\n",
    "\n",
    "# Librerías de extracción de datos\n",
    "# -----------------------------------------------------------------------\n",
    "\n",
    "# Importaciones:\n",
    "# Beautifulsoup\n",
    "from bs4 import BeautifulSoup\n",
    "\n",
    "# Requests\n",
    "import requests\n",
    "\n",
    "import pandas as pd\n",
    "import numpy as np\n",
    "\n",
    "from time import sleep\n",
    "\n",
    "# Importar librerías para automatización de navegadores web con Selenium\n",
    "# -----------------------------------------------------------------------\n",
    "from selenium import webdriver  # Selenium es una herramienta para automatizar la interacción con navegadores web.\n",
    "from webdriver_manager.chrome import ChromeDriverManager  # ChromeDriverManager gestiona la instalación del controlador de Chrome.\n",
    "from selenium.webdriver.common.keys import Keys  # Keys es útil para simular eventos de teclado en Selenium.\n",
    "from selenium.webdriver.support.ui import Select  # Select se utiliza para interactuar con elementos <select> en páginas web.\n",
    "from selenium.webdriver.support.ui import WebDriverWait\n",
    "from selenium.webdriver.support import expected_conditions as EC\n",
    "from selenium.common.exceptions import NoSuchElementException # Excepciones comunes de selenium que nos podemos encontrar "
   ]
  },
  {
   "cell_type": "code",
   "execution_count": 3,
   "metadata": {},
   "outputs": [
    {
     "name": "stdout",
     "output_type": "stream",
     "text": [
      "Hemos cargado la página en el navegador\n"
     ]
    }
   ],
   "source": [
    "# Abre Chrome\n",
    "driver = webdriver.Chrome()\n",
    "\n",
    "# Definimos una URL\n",
    "url_wunder = \"https://www.wunderground.com/history\"\n",
    "\n",
    "# Abrir la URL\n",
    "driver.get(url_wunder)\n",
    "# Maximizar ventana\n",
    "driver.maximize_window()\n",
    "\n",
    "print('Hemos cargado la página en el navegador')\n",
    "\n",
    "\"\"\"\n",
    "En el menú de cookies, inspeccionar y copiar como 'selector' el botón que queramos pulsar. Hacemos .click() para que haga click.\n",
    "Usamos implicity_wait() en lugar de sleep, para que intente ejecutar la siguiente línea durante el tiempo establecido (segundos).\n",
    "En los casos en los que la web no tenga una capa de cookies por encima esto debería funcionar.\n",
    "Pero en este caso hay que pasar a esta capa para acceder a las cookies.\n",
    "\"\"\"\n",
    "\n",
    "driver.implicitly_wait(20)\n",
    "# driver.find_element('css selector', '#notice > div.message-component.message-row.cta-buttons-container > div.message-component.message-column.cta-button-column.reject-column > button').click()"
   ]
  },
  {
   "cell_type": "code",
   "execution_count": 4,
   "metadata": {},
   "outputs": [],
   "source": [
    "\n",
    "# Usamos esto para que espere hasta encontrar un elemento localizado que le especifiquemos\n",
    "# driver espera 10 segundos\n",
    "# Para localizar la capa buscamos 'iframe' y seleccionamos el que haga referencia a las cookies \n",
    "# Copiamos el xpath aunque vale cualquiera y lo pegamos en el segundo argumento como vemos:\n",
    "iframe = WebDriverWait(driver, 10).until(EC.presence_of_element_located(('xpath', '//*[@id=\"sp_message_iframe_1165301\"]')))\n",
    "# Lo hemos almacenado en una variable llamada iframe para no usar driver\n",
    "driver.switch_to.frame(iframe)\n",
    "\n",
    "try:\n",
    "    driver.find_element('css selector', '#notice > div.message-component.message-row.cta-buttons-container > div.message-component.message-column.cta-button-column.reject-column > button').click()\n",
    "\n",
    "except:\n",
    "    print('No encuentro el botón')"
   ]
  },
  {
   "cell_type": "code",
   "execution_count": 5,
   "metadata": {},
   "outputs": [],
   "source": [
    "# Una vez está listo entramos en la cajita de escribir localización. Inspeccionamos y copiamos 'selector' y lo pegamos en css selector\n",
    "# Usamos .send_keys() para escribir\n",
    "driver.switch_to.default_content()\n",
    "sleep(3)\n",
    "driver.find_element('css selector', '#historySearch').send_keys('Madrid, Madrid, España')\n",
    "sleep(3)\n",
    "driver.find_element('css selector', '#historySearch').send_keys(Keys.ENTER)\n",
    "sleep(3)\n",
    "driver.find_element('css selector', '#dateSubmit').click()\n",
    "sleep(5)\n",
    "driver.find_element('xpath', '//*[@id=\"inner-content\"]/div[2]/div[1]/div[1]/div[1]/div/lib-link-selector/div/div/div/a[3]').click()\n"
   ]
  }
 ],
 "metadata": {
  "kernelspec": {
   "display_name": "test",
   "language": "python",
   "name": "python3"
  },
  "language_info": {
   "codemirror_mode": {
    "name": "ipython",
    "version": 3
   },
   "file_extension": ".py",
   "mimetype": "text/x-python",
   "name": "python",
   "nbconvert_exporter": "python",
   "pygments_lexer": "ipython3",
   "version": "3.12.4"
  }
 },
 "nbformat": 4,
 "nbformat_minor": 2
}
